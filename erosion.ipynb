{
 "cells": [
  {
   "cell_type": "code",
   "execution_count": 2,
   "metadata": {},
   "outputs": [],
   "source": [
    "import cv2\n",
    "import numpy as np\n",
    "img=cv2.imread('SAMPLE/Sample_erosion.png',0)\n",
    "kernel=np.ones((3,3),dtype=np.uint8)\n",
    "imgErosion=cv2.erode(img,kernel,iterations=1)\n",
    "imgErosion3=cv2.erode(img,kernel,iterations=3)\n",
    "cv2.imshow('image',img)\n",
    "cv2.imshow('image Erosion',imgErosion)\n",
    "cv2.imshow('image Erosion 3',imgErosion3)\n",
    "cv2.imwrite('ErosionImage.jpg',imgErosion)\n",
    "cv2.imwrite('ErosionImage3.jpg',imgErosion3)\n",
    "cv2.waitKey(0)\n",
    "cv2.destroyAllWindows()"
   ]
  }
 ],
 "metadata": {
  "kernelspec": {
   "display_name": "Python 3.10.8 ('pythonProject')",
   "language": "python",
   "name": "python3"
  },
  "language_info": {
   "codemirror_mode": {
    "name": "ipython",
    "version": 3
   },
   "file_extension": ".py",
   "mimetype": "text/x-python",
   "name": "python",
   "nbconvert_exporter": "python",
   "pygments_lexer": "ipython3",
   "version": "3.10.8"
  },
  "orig_nbformat": 4,
  "vscode": {
   "interpreter": {
    "hash": "ab47d8f26d0de71b951a80b6ec953abb660ed114394f9d340a18606f921977ea"
   }
  }
 },
 "nbformat": 4,
 "nbformat_minor": 2
}
